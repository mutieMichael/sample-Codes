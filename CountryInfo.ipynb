{
 "cells": [
  {
   "cell_type": "code",
   "execution_count": 1,
   "metadata": {},
   "outputs": [],
   "source": [
    "#The Silent Guru Analytics code samples"
   ]
  },
  {
   "cell_type": "markdown",
   "metadata": {},
   "source": [
    "# Getting information about a country"
   ]
  },
  {
   "cell_type": "code",
   "execution_count": 3,
   "metadata": {
    "scrolled": true
   },
   "outputs": [
    {
     "name": "stdout",
     "output_type": "stream",
     "text": [
      "Collecting countryinfo\n",
      "  Downloading countryinfo-0.1.2-py3-none-any.whl (602 kB)\n",
      "\u001b[K     |████████████████████████████████| 602 kB 155 kB/s eta 0:00:01\n",
      "\u001b[?25hInstalling collected packages: countryinfo\n",
      "Successfully installed countryinfo-0.1.2\n",
      "Note: you may need to restart the kernel to use updated packages.\n"
     ]
    }
   ],
   "source": [
    "pip install countryinfo"
   ]
  },
  {
   "cell_type": "code",
   "execution_count": 4,
   "metadata": {
    "scrolled": true
   },
   "outputs": [
    {
     "name": "stdout",
     "output_type": "stream",
     "text": [
      "Enter the country you are searching forkenya\n",
      "The capital city is:  Nairobi\n",
      "The country'currency is:  ['KES']\n",
      "The language is:  ['en', 'sw']\n"
     ]
    }
   ],
   "source": [
    "from countryinfo import CountryInfo\n",
    "question = input(\"Enter the country you are searching for\")\n",
    "country = CountryInfo(question)\n",
    "print(\"The capital city is: \",country.capital())\n",
    "print(\"The country'currency is: \",country.currencies())\n",
    "print(\"The language is: \",country.languages())"
   ]
  },
  {
   "cell_type": "code",
   "execution_count": null,
   "metadata": {},
   "outputs": [],
   "source": []
  }
 ],
 "metadata": {
  "kernelspec": {
   "display_name": "Python 3",
   "language": "python",
   "name": "python3"
  },
  "language_info": {
   "codemirror_mode": {
    "name": "ipython",
    "version": 3
   },
   "file_extension": ".py",
   "mimetype": "text/x-python",
   "name": "python",
   "nbconvert_exporter": "python",
   "pygments_lexer": "ipython3",
   "version": "3.7.6"
  }
 },
 "nbformat": 4,
 "nbformat_minor": 4
}
